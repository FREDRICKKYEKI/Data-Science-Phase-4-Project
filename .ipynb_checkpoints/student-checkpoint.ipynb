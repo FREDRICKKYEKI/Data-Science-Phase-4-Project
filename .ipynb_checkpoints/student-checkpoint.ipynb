{
 "cells": [
  {
   "cell_type": "markdown",
   "metadata": {},
   "source": [
    "## Final Project Submission\n",
    "\n",
    "Please fill out:\n",
    "* Student name: \n",
    "* Student pace: self paced / part time / full time\n",
    "* Scheduled project review date/time: \n",
    "* Instructor name: \n",
    "* Blog post URL:\n"
   ]
  },
  {
   "cell_type": "code",
   "execution_count": 8,
   "metadata": {},
   "outputs": [],
   "source": [
    "# Your code here - remember to use markdown cells for comments as well!\n",
    "import pandas as pd\n",
    "\n",
    "\n",
    "movies = \"data/ml-latest-small/movies.csv\"\n",
    "links = \"data/ml-latest-small/links.csv\"\n",
    "ratings = \"data/ml-latest-small/ratings.csv\"\n",
    "tags = \"data/ml-latest-small/tags.csv\"\n",
    "\n",
    "data = {\"movies\":None, \"links\": None, \"ratings\": None, \"tags\": None}\n",
    "\n",
    "for key in data.keys():\n",
    "    data[key] = pd.read_csv(f\"data/ml-latest-small/{key}.csv\")"
   ]
  },
  {
   "cell_type": "markdown",
   "metadata": {},
   "source": [
    "Lengths"
   ]
  },
  {
   "cell_type": "code",
   "execution_count": 11,
   "metadata": {},
   "outputs": [
    {
     "name": "stdout",
     "output_type": "stream",
     "text": [
      "movies 9742\n",
      "links 9742\n",
      "ratings 100836\n",
      "tags 3683\n"
     ]
    }
   ],
   "source": [
    "for k, v in data.items():\n",
    "    print(k, \":\",len(v))"
   ]
  }
 ],
 "metadata": {
  "kernelspec": {
   "display_name": "saturn (Python 3)",
   "language": "python",
   "name": "python3"
  },
  "language_info": {
   "codemirror_mode": {
    "name": "ipython",
    "version": 3
   },
   "file_extension": ".py",
   "mimetype": "text/x-python",
   "name": "python",
   "nbconvert_exporter": "python",
   "pygments_lexer": "ipython3",
   "version": "3.10.6"
  }
 },
 "nbformat": 4,
 "nbformat_minor": 2
}
